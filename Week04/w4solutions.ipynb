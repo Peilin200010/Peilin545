{
 "cells": [
  {
   "cell_type": "code",
   "execution_count": 3,
   "metadata": {
    "collapsed": true
   },
   "outputs": [],
   "source": [
    "import numpy as np\n",
    "import pandas as pd\n",
    "import matplotlib.pyplot as plt\n",
    "import scipy.stats as sps\n",
    "from scipy import optimize\n",
    "import statsmodels.api as sm\n",
    "import math"
   ]
  },
  {
   "cell_type": "markdown",
   "metadata": {
    "collapsed": false
   },
   "source": [
    "# Problem 1"
   ]
  },
  {
   "cell_type": "code",
   "execution_count": 4,
   "metadata": {
    "collapsed": false
   },
   "outputs": [],
   "source": [
    "# set P(t-1)=100 and σ=0.1\n",
    "Pt_1 = 100\n",
    "sigma = 0.1\n",
    "sample_size = 1_000_000\n",
    "np.random.seed(222)\n",
    "r = np.random.normal(0, sigma, sample_size)"
   ]
  },
  {
   "cell_type": "code",
   "execution_count": 5,
   "metadata": {
    "collapsed": false
   },
   "outputs": [
    {
     "name": "stdout",
     "output_type": "stream",
     "text": [
      "expected value:  100\n",
      "simulation result mean:  100.0001\n",
      "expected standard deviation:  0.1\n",
      "simulation result std deviation:  0.1\n"
     ]
    }
   ],
   "source": [
    "# classical brownian\n",
    "Pt = Pt_1 + r\n",
    "print(\"expected value: \", Pt_1)\n",
    "print(\"simulation result mean: \", round(Pt.mean(), 4))\n",
    "print(\"expected standard deviation: \", sigma)\n",
    "print(\"simulation result std deviation: \", round(Pt.std(), 4))"
   ]
  },
  {
   "cell_type": "code",
   "execution_count": 6,
   "metadata": {
    "collapsed": false
   },
   "outputs": [
    {
     "name": "stdout",
     "output_type": "stream",
     "text": [
      "expected value:  100\n",
      "simulation result mean:  100.009\n",
      "expected standard deviation:  10.0\n",
      "simulation result std deviation:  10.0006\n"
     ]
    }
   ],
   "source": [
    "# arithmetic return\n",
    "Pt = Pt_1 * (1 + r)\n",
    "print(\"expected value: \", Pt_1)\n",
    "print(\"simulation result mean: \", round(Pt.mean(), 4))\n",
    "print(\"expected standard deviation: \", sigma * Pt_1)\n",
    "print(\"simulation result std deviation: \", round(Pt.std(), 4))"
   ]
  },
  {
   "cell_type": "code",
   "execution_count": 7,
   "metadata": {
    "collapsed": false
   },
   "outputs": [
    {
     "name": "stdout",
     "output_type": "stream",
     "text": [
      "expected value:  100.5013\n",
      "simulation result mean:  100.5104\n",
      "expected standard deviation:  10.0753\n",
      "simulation result std deviation:  10.078\n"
     ]
    }
   ],
   "source": [
    "# geometric brownian\n",
    "Pt = Pt_1 * np.exp(r)\n",
    "print(\"expected value: \", round(Pt_1 * math.exp(sigma * sigma / 2), 4))\n",
    "print(\"simulation result mean: \", round(Pt.mean(), 4))\n",
    "e_std_div = Pt_1 * math.sqrt((math.exp(sigma * sigma) - 1) * math.exp(sigma * sigma))\n",
    "print(\"expected standard deviation: \", round(e_std_div, 4))\n",
    "print(\"simulation result std deviation: \", round(Pt.std(), 4))"
   ]
  },
  {
   "cell_type": "markdown",
   "metadata": {
    "collapsed": false
   },
   "source": [
    "# Problem 2"
   ]
  },
  {
   "cell_type": "code",
   "execution_count": 8,
   "metadata": {
    "collapsed": false
   },
   "outputs": [],
   "source": [
    "df = pd.read_csv(\"DailyPrices.csv\")"
   ]
  },
  {
   "cell_type": "code",
   "execution_count": 9,
   "metadata": {
    "collapsed": false
   },
   "outputs": [],
   "source": [
    "def return_calculate(prices, method='DISCRETE', date_column='Date'):\n",
    "    vars = prices.columns.drop(date_column)\n",
    "    n_vars = prices.shape[1]\n",
    "    if n_vars == vars.size:\n",
    "        raise ValueError(\"date column: \" + date_column + \" not in DataFrame\")\n",
    "    n_vars -= 1\n",
    "\n",
    "    p = prices[vars]\n",
    "    out = (p / p.shift(1)).dropna()\n",
    "\n",
    "    if method.upper() == \"DISCRETE\":\n",
    "        out = out.apply(lambda x: x-1)\n",
    "    elif method.upper() == \"LOG\":\n",
    "        out = out.apply(np.log)\n",
    "    else:\n",
    "        raise ValueError(\"method: \" + method + \" must be 'LOG' or 'DISCRETE'\")\n",
    "\n",
    "    out.index = prices[date_column][1: ]\n",
    "    return out"
   ]
  },
  {
   "cell_type": "code",
   "execution_count": 10,
   "metadata": {
    "collapsed": false
   },
   "outputs": [],
   "source": [
    "rets = return_calculate(df)"
   ]
  },
  {
   "cell_type": "code",
   "execution_count": 11,
   "metadata": {
    "collapsed": false
   },
   "outputs": [],
   "source": [
    "meta_ret = rets['META'].copy()\n",
    "meta_ret -= meta_ret.mean() # μ=0\n",
    "sigma = (np.array(meta_ret).var())**(1/2)\n",
    "alpha = 0.05 # set α=5%"
   ]
  },
  {
   "cell_type": "code",
   "execution_count": 12,
   "metadata": {
    "collapsed": false
   },
   "outputs": [
    {
     "name": "stdout",
     "output_type": "stream",
     "text": [
      "under normal distribution, VaR = 6.55% loss\n"
     ]
    }
   ],
   "source": [
    "# normal distribution\n",
    "VaR1 = -sps.norm.ppf(alpha, loc=0, scale=sigma)\n",
    "print(\"under normal distribution, VaR = {:.2f}% loss\".format(VaR1*100))"
   ]
  },
  {
   "cell_type": "code",
   "execution_count": 13,
   "metadata": {
    "collapsed": false
   },
   "outputs": [
    {
     "data": {
      "text/plain": [
       "0.03980243212896093"
      ]
     },
     "execution_count": 13,
     "metadata": {},
     "output_type": "execute_result"
    }
   ],
   "source": [
    "sigma"
   ]
  },
  {
   "cell_type": "code",
   "execution_count": 14,
   "metadata": {
    "collapsed": false
   },
   "outputs": [],
   "source": [
    "# normal distribution with exponentially weighted variance\n",
    "def populate_weights(w, lamda):\n",
    "    n = w.size\n",
    "    for i in range(n):\n",
    "        w[i] = (1 - lamda) * lamda ** (n - i - 1)\n",
    "    for i in range(n):\n",
    "        w[i] /= w.sum()\n",
    "    w[-1] = 1. - w[: -1].sum() # solve float error, make weights sum to 1.0\n",
    "    return w"
   ]
  },
  {
   "cell_type": "code",
   "execution_count": 15,
   "metadata": {
    "collapsed": false
   },
   "outputs": [
    {
     "name": "stdout",
     "output_type": "stream",
     "text": [
      "under normal distribution with ew variance, VaR = 9.14% loss\n"
     ]
    }
   ],
   "source": [
    "weights = np.zeros(meta_ret.size)\n",
    "populate_weights(weights, 0.94)\n",
    "ew_var = (weights * meta_ret).T@meta_ret\n",
    "VaR2 = -sps.norm.ppf(alpha, loc=0, scale=ew_var**(1/2))\n",
    "print(\"under normal distribution with ew variance, VaR = {:.2f}% loss\".format(VaR2*100))"
   ]
  },
  {
   "cell_type": "code",
   "execution_count": 16,
   "metadata": {
    "collapsed": false
   },
   "outputs": [
    {
     "data": {
      "text/plain": [
       "0.05555829155939741"
      ]
     },
     "execution_count": 16,
     "metadata": {},
     "output_type": "execute_result"
    }
   ],
   "source": [
    "ew_var**(1/2)"
   ]
  },
  {
   "cell_type": "code",
   "execution_count": 17,
   "metadata": {
    "collapsed": false
   },
   "outputs": [],
   "source": [
    "# MLE fitted T distribution\n",
    "def negative_t_ll(arguments):\n",
    "    s, free = arguments[0], arguments[1]\n",
    "    ll = sps.t.logpdf(meta_ret, free, loc=0.0, scale=s).sum()\n",
    "    return -ll"
   ]
  },
  {
   "cell_type": "code",
   "execution_count": 18,
   "metadata": {
    "collapsed": false
   },
   "outputs": [
    {
     "name": "stdout",
     "output_type": "stream",
     "text": [
      "under MLE fitted T distribution, VaR = 5.73% loss\n"
     ]
    }
   ],
   "source": [
    "bnds2 = ((0.000_000_01, None), (3, None))\n",
    "guess = np.array([0.01, 6])\n",
    "result = optimize.minimize(negative_t_ll, guess, bounds=bnds2)\n",
    "t_sigma, d_free = result.x[0], result.x[1]\n",
    "VaR3 = -sps.t.ppf(alpha, d_free, loc=0, scale=t_sigma)\n",
    "print(\"under MLE fitted T distribution, VaR = {:.2f}% loss\".format(VaR3*100))"
   ]
  },
  {
   "cell_type": "code",
   "execution_count": 19,
   "metadata": {
    "collapsed": false
   },
   "outputs": [
    {
     "data": {
      "text/plain": [
       "(3.9225831323131994, 0.02670550191477702)"
      ]
     },
     "execution_count": 19,
     "metadata": {},
     "output_type": "execute_result"
    }
   ],
   "source": [
    "d_free, t_sigma"
   ]
  },
  {
   "cell_type": "code",
   "execution_count": 20,
   "metadata": {
    "collapsed": false
   },
   "outputs": [
    {
     "name": "stdout",
     "output_type": "stream",
     "text": [
      "under AR(1) model, VaR = 6.58% loss\n"
     ]
    }
   ],
   "source": [
    "# fitted AR(1) model\n",
    "meta_ret.index = pd.DatetimeIndex(meta_ret.index).to_period('D')\n",
    "result = sm.tsa.AutoReg(meta_ret, lags=1).fit()\n",
    "ret_t_1 = meta_ret[-1]\n",
    "m = result.params[0]\n",
    "beta = result.params[1]\n",
    "er_scale = result.sigma2**(1/2)\n",
    "\n",
    "sim_times = 1_000_000\n",
    "sim_ret_t = beta * ret_t_1 + np.random.normal(0, er_scale, sim_times) + m\n",
    "VaR4 = -np.percentile(sim_ret_t, alpha*100)\n",
    "print(\"under AR(1) model, VaR = {:.2f}% loss\".format(VaR4*100))"
   ]
  },
  {
   "cell_type": "code",
   "execution_count": 21,
   "metadata": {
    "collapsed": false
   },
   "outputs": [
    {
     "data": {
      "text/plain": [
       "(-6.231553649016424e-05, 0.007232839275569024, 0.03987014452315942)"
      ]
     },
     "execution_count": 21,
     "metadata": {},
     "output_type": "execute_result"
    }
   ],
   "source": [
    "m, beta, er_scale"
   ]
  },
  {
   "cell_type": "code",
   "execution_count": 633,
   "metadata": {
    "collapsed": false
   },
   "outputs": [
    {
     "name": "stdout",
     "output_type": "stream",
     "text": [
      "under historic simulation, VaR = 5.59% loss\n"
     ]
    }
   ],
   "source": [
    "# historic simulation\n",
    "sample_size = 1_000_000\n",
    "np.random.seed(200)\n",
    "sim_return = np.random.choice(meta_ret, sample_size)\n",
    "VaR5 = -np.percentile(sim_return, alpha*100)\n",
    "print(\"under historic simulation, VaR = {:.2f}% loss\".format(VaR5*100))"
   ]
  },
  {
   "cell_type": "code",
   "execution_count": 634,
   "metadata": {
    "collapsed": false
   },
   "outputs": [
    {
     "data": {
      "image/png": "[encoded data removed]",
      "text/plain": [
       "<Figure size 640x480 with 1 Axes>"
      ]
     },
     "metadata": {},
     "output_type": "display_data"
    }
   ],
   "source": [
    "plt.hist(sim_return, bins=100);"
   ]
  },
  {
   "cell_type": "markdown",
   "metadata": {
    "collapsed": false
   },
   "source": [
    "# Problem 3"
   ]
  },
  {
   "cell_type": "code",
   "execution_count": 635,
   "metadata": {
    "collapsed": false
   },
   "outputs": [],
   "source": [
    "portfolio_df = pd.read_csv(\"portfolio.csv\")"
   ]
  },
  {
   "cell_type": "code",
   "execution_count": 636,
   "metadata": {
    "collapsed": false
   },
   "outputs": [],
   "source": [
    "def conduct_pca(mat):\n",
    "    eigenvalues, eigenvectors = np.linalg.eigh(mat)\n",
    "    e_vals_sort = np.flip(np.real(eigenvalues), axis=0)\n",
    "    pos_e_vals = e_vals_sort[e_vals_sort >= 1e-8]\n",
    "    pos_e_vecs = np.flip(np.real(eigenvectors), axis=1)[:, : pos_e_vals.size]\n",
    "    cum_explain = [pos_e_vals[:i+1].sum() / pos_e_vals.sum() for i in range(pos_e_vals.size)]\n",
    "    return pos_e_vals, pos_e_vecs, cum_explain\n",
    "\n",
    "def simulation_with_pca(mat, min_explain=1.0):\n",
    "    pca = conduct_pca(mat)\n",
    "    pca_vals = pca[0]\n",
    "    pca_vecs = pca[1]\n",
    "    for i, cum in enumerate(pca[2]):\n",
    "        if cum >= min_explain:\n",
    "            pca_vals = pca_vals[: i+1]\n",
    "            pca_vecs = pca_vecs[:, : i+1]\n",
    "    B = pca_vecs@np.diag(np.sqrt(pca_vals))\n",
    "    r = np.random.standard_normal((B.shape[1], 25_000))\n",
    "    X = (B@r).T\n",
    "    return X"
   ]
  },
  {
   "cell_type": "code",
   "execution_count": 637,
   "metadata": {
    "collapsed": false
   },
   "outputs": [],
   "source": [
    "def populate_exp_weighted_cov_matrix(w, data):\n",
    "    zero_mean = data.copy()\n",
    "    for j in range(data.shape[1]):\n",
    "        zero_mean.iloc[:, j] = data.iloc[:, j] - data.iloc[:, j].mean()\n",
    "    result = zero_mean.multiply(w, axis=0).T@zero_mean\n",
    "    return result"
   ]
  },
  {
   "cell_type": "code",
   "execution_count": 638,
   "metadata": {
    "collapsed": false
   },
   "outputs": [],
   "source": [
    "def calculate_portfolio_VaR(P, return_method='DISCRETE', model='M'):\n",
    "    prices_P = df[['Date'] + list(P.keys())]\n",
    "    holdings = np.array(list(P.values()))\n",
    "    current_value_P = holdings.T@prices_P.iloc[-1, 1:]\n",
    "    returns_P = return_calculate(prices_P, return_method)\n",
    "\n",
    "    # simulate with exponentially weighted covariance\n",
    "    weight = np.zeros(returns_P.shape[0])\n",
    "    w = populate_weights(weight, 0.94)\n",
    "    if model.upper() == 'M':\n",
    "        ew_cov = populate_exp_weighted_cov_matrix(w, returns_P)\n",
    "        sim_returns = simulation_with_pca(ew_cov) + np.array(returns_P.mean())\n",
    "    elif model.upper() == 'H':\n",
    "        row_draw = np.random.choice(returns_P.shape[0], 25_000, p=w)\n",
    "        sim_returns = np.array(returns_P.iloc[row_draw, :])\n",
    "    else:\n",
    "        raise ValueError(\"model: \" + model + \"must be 'M' or 'H'\")\n",
    "\n",
    "    if return_method.upper() == 'DISCRETE':\n",
    "        sim_prices = (sim_returns + 1) * np.array(prices_P.iloc[-1, 1:])\n",
    "    elif return_method.upper() == 'LOG':\n",
    "        sim_prices = np.exp(sim_returns) * np.array(prices_P.iloc[-1, 1:])\n",
    "    else:\n",
    "        raise ValueError(\"method: \" + return_method + \" must be 'LOG' or 'DISCRETE'\")\n",
    "    sim_value_P = (sim_prices * holdings).sum(axis=1)\n",
    "    VaR_P = current_value_P - np.percentile(sim_value_P, alpha*100)\n",
    "    return VaR_P"
   ]
  },
  {
   "cell_type": "code",
   "execution_count": 639,
   "metadata": {
    "collapsed": false
   },
   "outputs": [
    {
     "name": "stdout",
     "output_type": "stream",
     "text": [
      "the VaR of portfolio A in dollar with discrete return: 5620.37$ loss\n",
      "the VaR of portfolio A in dollar with log return: 5539.85$ loss\n"
     ]
    }
   ],
   "source": [
    "portfolio_A = portfolio_df[portfolio_df['Portfolio'] == 'A']\n",
    "A = dict(zip(portfolio_A['Stock'], portfolio_A['Holding']))\n",
    "VaR_A_dis = calculate_portfolio_VaR(A)\n",
    "VaR_A_log = calculate_portfolio_VaR(A, return_method='log')\n",
    "print(\"the VaR of portfolio A in dollar with discrete return: {:.2f}$ loss\".format(VaR_A_dis))\n",
    "print(\"the VaR of portfolio A in dollar with log return: {:.2f}$ loss\".format(VaR_A_log))"
   ]
  },
  {
   "cell_type": "code",
   "execution_count": 640,
   "metadata": {
    "collapsed": false
   },
   "outputs": [
    {
     "name": "stdout",
     "output_type": "stream",
     "text": [
      "the VaR of portfolio B in dollar with discrete return: 4357.74$ loss\n",
      "the VaR of portfolio B in dollar with log return: 4382.22$ loss\n"
     ]
    }
   ],
   "source": [
    "portfolio_B = portfolio_df[portfolio_df['Portfolio'] == 'B']\n",
    "B = dict(zip(portfolio_B['Stock'], portfolio_B['Holding']))\n",
    "VaR_B_dis = calculate_portfolio_VaR(B)\n",
    "VaR_B_log = calculate_portfolio_VaR(B, return_method='log')\n",
    "print(\"the VaR of portfolio B in dollar with discrete return: {:.2f}$ loss\".format(VaR_B_dis))\n",
    "print(\"the VaR of portfolio B in dollar with log return: {:.2f}$ loss\".format(VaR_B_log))"
   ]
  },
  {
   "cell_type": "code",
   "execution_count": 641,
   "metadata": {
    "collapsed": false
   },
   "outputs": [
    {
     "name": "stdout",
     "output_type": "stream",
     "text": [
      "the VaR of portfolio C in dollar with discrete return: 3753.22$ loss\n",
      "the VaR of portfolio C in dollar with log return: 3736.56$ loss\n"
     ]
    }
   ],
   "source": [
    "portfolio_C = portfolio_df[portfolio_df['Portfolio'] == 'C']\n",
    "C = dict(zip(portfolio_C['Stock'], portfolio_C['Holding']))\n",
    "VaR_C_dis = calculate_portfolio_VaR(C)\n",
    "VaR_C_log = calculate_portfolio_VaR(C, return_method='log')\n",
    "print(\"the VaR of portfolio C in dollar with discrete return: {:.2f}$ loss\".format(VaR_C_dis))\n",
    "print(\"the VaR of portfolio C in dollar with log return: {:.2f}$ loss\".format(VaR_C_log))"
   ]
  },
  {
   "cell_type": "code",
   "execution_count": 642,
   "metadata": {
    "collapsed": false
   },
   "outputs": [
    {
     "name": "stdout",
     "output_type": "stream",
     "text": [
      "the total VaR in dollar with discrete return: 13470.81$ loss\n",
      "the total VaR in dollar with log return: 13450.62$ loss\n"
     ]
    }
   ],
   "source": [
    "total = {}\n",
    "for k in (set(A) | set(B) | set(C)):\n",
    "    total[k] = A.get(k, 0) + B.get(k, 0) + C.get(k, 0)\n",
    "VaR_total_dis = calculate_portfolio_VaR(total)\n",
    "VaR_total_log = calculate_portfolio_VaR(total, return_method='log')\n",
    "print(\"the total VaR in dollar with discrete return: {:.2f}$ loss\".format(VaR_total_dis))\n",
    "print(\"the total VaR in dollar with log return: {:.2f}$ loss\".format(VaR_total_log))"
   ]
  },
  {
   "cell_type": "code",
   "execution_count": 643,
   "metadata": {
    "collapsed": false
   },
   "outputs": [
    {
     "name": "stdout",
     "output_type": "stream",
     "text": [
      "the VaR using history simulation: \n",
      "A: 3452.11$ loss\n",
      "B: 3631.77$ loss\n",
      "C: 2754.59$ loss\n",
      "total: 11064.37$ loss\n"
     ]
    }
   ],
   "source": [
    "VaR_A_history = calculate_portfolio_VaR(A, 'discrete', 'h')\n",
    "VaR_B_history = calculate_portfolio_VaR(B, 'discrete', 'h')\n",
    "VaR_C_history = calculate_portfolio_VaR(C, 'discrete', 'h')\n",
    "VaR_total_history = calculate_portfolio_VaR(total, 'discrete', 'h')\n",
    "print(\"the VaR using history simulation: \")\n",
    "print(\"A: {:.2f}$ loss\".format(VaR_A_history))\n",
    "print(\"B: {:.2f}$ loss\".format(VaR_B_history))\n",
    "print(\"C: {:.2f}$ loss\".format(VaR_C_history))\n",
    "print(\"total: {:.2f}$ loss\".format(VaR_total_history))"
   ]
  },
  {
   "cell_type": "code",
   "execution_count": 644,
   "metadata": {
    "collapsed": false
   },
   "outputs": [
    {
     "name": "stdout",
     "output_type": "stream",
     "text": [
      "the VaR using history simulation in log return: \n",
      "A: 4558.32$ loss\n",
      "B: 3631.77$ loss\n",
      "C: 2754.59$ loss\n",
      "total: 11064.37$ loss\n"
     ]
    }
   ],
   "source": [
    "VaR_A_history = calculate_portfolio_VaR(A, 'log', 'h')\n",
    "VaR_B_history = calculate_portfolio_VaR(B, 'log', 'h')\n",
    "VaR_C_history = calculate_portfolio_VaR(C, 'log', 'h')\n",
    "VaR_total_history = calculate_portfolio_VaR(total, 'log', 'h')\n",
    "print(\"the VaR using history simulation in log return: \")\n",
    "print(\"A: {:.2f}$ loss\".format(VaR_A_history))\n",
    "print(\"B: {:.2f}$ loss\".format(VaR_B_history))\n",
    "print(\"C: {:.2f}$ loss\".format(VaR_C_history))\n",
    "print(\"total: {:.2f}$ loss\".format(VaR_total_history))"
   ]
  }
 ],
 "metadata": {
  "kernelspec": {
   "display_name": "Python 3",
   "language": "python",
   "name": "python3"
  },
  "language_info": {
   "codemirror_mode": {
    "name": "ipython",
    "version": 3
   },
   "file_extension": ".py",
   "mimetype": "text/x-python",
   "name": "python",
   "nbconvert_exporter": "python",
   "pygments_lexer": "ipython3",
   "version": "3.10.10"
  }
 },
 "nbformat": 4,
 "nbformat_minor": 0
}
