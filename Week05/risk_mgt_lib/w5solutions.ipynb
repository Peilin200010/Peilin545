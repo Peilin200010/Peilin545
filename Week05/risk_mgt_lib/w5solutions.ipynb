{
 "cells": [
  {
   "cell_type": "markdown",
   "metadata": {
    "collapsed": false
   },
   "source": [
    "# week5 solutions\n",
    "### Peilin Luo"
   ]
  },
  {
   "cell_type": "code",
   "execution_count": 24,
   "metadata": {
    "collapsed": false
   },
   "outputs": [],
   "source": [
    "import numpy as np\n",
    "import pandas as pd\n",
    "import matplotlib.pyplot as plt\n",
    "import scipy.stats as sps\n",
    "import math"
   ]
  },
  {
   "cell_type": "markdown",
   "metadata": {
    "collapsed": false
   },
   "source": [
    "### problem 1"
   ]
  },
  {
   "cell_type": "code",
   "execution_count": 25,
   "metadata": {
    "collapsed": false
   },
   "outputs": [],
   "source": [
    "def VaR_ES(data, alpha=0.05):\n",
    "    data_sort = np.sort(data)\n",
    "    n = alpha * data.size\n",
    "    VaR = (data_sort[math.ceil(n)] + data_sort[math.floor(n)]) / 2\n",
    "    ES = data_sort[:math.floor(n)].mean()\n",
    "    return -VaR, -ES"
   ]
  },
  {
   "cell_type": "code",
   "execution_count": 26,
   "metadata": {
    "collapsed": false
   },
   "outputs": [
    {
     "name": "stdout",
     "output_type": "stream",
     "text": [
      "fitted results-mu and std -0.0008798294897083734 0.04886453171494587\n",
      "VaR and ES 0.0819969284183214 0.10204677423492833\n"
     ]
    }
   ],
   "source": [
    "df_p1 = pd.read_csv('problem1.csv')\n",
    "n_sim = 10_000\n",
    "\n",
    "#using normal distribution\n",
    "mu_p1, std_p1 = sps.norm.fit(df_p1)\n",
    "np.random.seed(22)\n",
    "sim_norm = np.random.normal(loc=mu_p1, scale=std_p1, size=n_sim)\n",
    "VaR_norm, ES_norm = VaR_ES(sim_norm)\n",
    "print(\"fitted results-mu and std\", mu_p1, std_p1)\n",
    "print(\"VaR and ES\", VaR_norm, ES_norm)"
   ]
  },
  {
   "cell_type": "code",
   "execution_count": 27,
   "metadata": {
    "collapsed": false
   },
   "outputs": [
    {
     "data": {
      "text/plain": [
       "(array([0.00957041]), 0.012063068087178523)"
      ]
     },
     "execution_count": 27,
     "metadata": {},
     "output_type": "execute_result"
    }
   ],
   "source": [
    "VaR_ES(df_p1)"
   ]
  },
  {
   "cell_type": "code",
   "execution_count": 28,
   "metadata": {
    "collapsed": false
   },
   "outputs": [
    {
     "name": "stdout",
     "output_type": "stream",
     "text": [
      "fitted results-free, mu and sigma 4.251095126060646 -9.372252668219527e-05 0.03643886329896129\n",
      "VaR and ES 0.07635000800129081 0.11299642806106665\n"
     ]
    }
   ],
   "source": [
    "# using t distribution\n",
    "free, mu_t, sigma_t = sps.t.fit(df_p1)\n",
    "sim_t = sps.t.rvs(free, loc=mu_t, scale=sigma_t, size=n_sim)\n",
    "VaR_t, ES_t = VaR_ES(sim_t)\n",
    "print(\"fitted results-free, mu and sigma\", free, mu_t, sigma_t)\n",
    "print(\"VaR and ES\", VaR_t, ES_t)"
   ]
  },
  {
   "cell_type": "code",
   "execution_count": 29,
   "metadata": {
    "collapsed": false
   },
   "outputs": [
    {
     "data": {
      "image/png": "[encoded data removed]",
      "text/plain": [
       "<Figure size 640x480 with 1 Axes>"
      ]
     },
     "metadata": {},
     "output_type": "display_data"
    }
   ],
   "source": [
    "bins = np.linspace(-0.3, 0.3, 50)\n",
    "plt.hist(df_p1, bins, density=True, label='history')\n",
    "plt.plot(bins, sps.t.pdf(bins, free, loc=mu_p1, scale=std_p1), linewidth=3, label='t')\n",
    "plt.fill_between(x=bins, y1=sps.t.pdf(bins, free, loc=mu_p1, scale=std_p1),\n",
    "                 where=(bins < -VaR_t), color='red')\n",
    "plt.plot(bins, sps.norm.pdf(bins, loc=mu_p1, scale=std_p1), linewidth=3, label='normal')\n",
    "plt.fill_between(x=bins, y1=sps.norm.pdf(bins, loc=mu_p1, scale=std_p1),\n",
    "                 where=(bins < -VaR_norm), color='green')\n",
    "plt.legend(loc='upper right')\n",
    "plt.show()"
   ]
  },
  {
   "cell_type": "markdown",
   "metadata": {
    "collapsed": false
   },
   "source": [
    "### problem 3"
   ]
  },
  {
   "cell_type": "code",
   "execution_count": 30,
   "metadata": {
    "collapsed": false
   },
   "outputs": [],
   "source": [
    "from riskill import risk"
   ]
  },
  {
   "cell_type": "code",
   "execution_count": 31,
   "metadata": {
    "collapsed": false
   },
   "outputs": [],
   "source": [
    "prices = pd.read_csv('DailyPrices.csv')\n",
    "portfolio_df = pd.read_csv('portfolio.csv')\n",
    "returns = risk.return_calculate(prices)"
   ]
  },
  {
   "cell_type": "code",
   "execution_count": 32,
   "metadata": {
    "collapsed": false
   },
   "outputs": [
    {
     "data": {
      "text/html": [
       "<div>\n",
       "<style scoped>\n",
       "    .dataframe tbody tr th:only-of-type {\n",
       "        vertical-align: middle;\n",
       "    }\n",
       "\n",
       "    .dataframe tbody tr th {\n",
       "        vertical-align: top;\n",
       "    }\n",
       "\n",
       "    .dataframe thead th {\n",
       "        text-align: right;\n",
       "    }\n",
       "</style>\n",
       "<table border=\"1\" class=\"dataframe\">\n",
       "  <thead>\n",
       "    <tr style=\"text-align: right;\">\n",
       "      <th></th>\n",
       "      <th>SPY</th>\n",
       "      <th>AAPL</th>\n",
       "      <th>MSFT</th>\n",
       "      <th>AMZN</th>\n",
       "      <th>TSLA</th>\n",
       "      <th>GOOGL</th>\n",
       "      <th>GOOG</th>\n",
       "      <th>META</th>\n",
       "      <th>NVDA</th>\n",
       "      <th>BRK-B</th>\n",
       "      <th>...</th>\n",
       "      <th>PNC</th>\n",
       "      <th>MDLZ</th>\n",
       "      <th>MO</th>\n",
       "      <th>ADI</th>\n",
       "      <th>GILD</th>\n",
       "      <th>LMT</th>\n",
       "      <th>SYK</th>\n",
       "      <th>GM</th>\n",
       "      <th>TFC</th>\n",
       "      <th>TJX</th>\n",
       "    </tr>\n",
       "    <tr>\n",
       "      <th>Date</th>\n",
       "      <th></th>\n",
       "      <th></th>\n",
       "      <th></th>\n",
       "      <th></th>\n",
       "      <th></th>\n",
       "      <th></th>\n",
       "      <th></th>\n",
       "      <th></th>\n",
       "      <th></th>\n",
       "      <th></th>\n",
       "      <th></th>\n",
       "      <th></th>\n",
       "      <th></th>\n",
       "      <th></th>\n",
       "      <th></th>\n",
       "      <th></th>\n",
       "      <th></th>\n",
       "      <th></th>\n",
       "      <th></th>\n",
       "      <th></th>\n",
       "      <th></th>\n",
       "    </tr>\n",
       "  </thead>\n",
       "  <tbody>\n",
       "    <tr>\n",
       "      <th>2/15/2022 0:00</th>\n",
       "      <td>0.016127</td>\n",
       "      <td>0.023152</td>\n",
       "      <td>0.018542</td>\n",
       "      <td>0.008658</td>\n",
       "      <td>0.053291</td>\n",
       "      <td>0.007987</td>\n",
       "      <td>0.008319</td>\n",
       "      <td>0.015158</td>\n",
       "      <td>0.091812</td>\n",
       "      <td>0.006109</td>\n",
       "      <td>...</td>\n",
       "      <td>0.012807</td>\n",
       "      <td>-0.004082</td>\n",
       "      <td>0.004592</td>\n",
       "      <td>0.052344</td>\n",
       "      <td>0.003600</td>\n",
       "      <td>-0.012275</td>\n",
       "      <td>0.033021</td>\n",
       "      <td>0.026240</td>\n",
       "      <td>0.028572</td>\n",
       "      <td>0.013237</td>\n",
       "    </tr>\n",
       "    <tr>\n",
       "      <th>2/16/2022 0:00</th>\n",
       "      <td>0.001121</td>\n",
       "      <td>-0.001389</td>\n",
       "      <td>-0.001167</td>\n",
       "      <td>0.010159</td>\n",
       "      <td>0.001041</td>\n",
       "      <td>0.008268</td>\n",
       "      <td>0.007784</td>\n",
       "      <td>-0.020181</td>\n",
       "      <td>0.000604</td>\n",
       "      <td>-0.001739</td>\n",
       "      <td>...</td>\n",
       "      <td>0.006757</td>\n",
       "      <td>-0.002429</td>\n",
       "      <td>0.005763</td>\n",
       "      <td>0.038879</td>\n",
       "      <td>0.009294</td>\n",
       "      <td>0.012244</td>\n",
       "      <td>0.003363</td>\n",
       "      <td>0.015301</td>\n",
       "      <td>-0.001389</td>\n",
       "      <td>-0.025984</td>\n",
       "    </tr>\n",
       "    <tr>\n",
       "      <th>2/17/2022 0:00</th>\n",
       "      <td>-0.021361</td>\n",
       "      <td>-0.021269</td>\n",
       "      <td>-0.029282</td>\n",
       "      <td>-0.021809</td>\n",
       "      <td>-0.050943</td>\n",
       "      <td>-0.037746</td>\n",
       "      <td>-0.037669</td>\n",
       "      <td>-0.040778</td>\n",
       "      <td>-0.075591</td>\n",
       "      <td>-0.006653</td>\n",
       "      <td>...</td>\n",
       "      <td>-0.034949</td>\n",
       "      <td>0.005326</td>\n",
       "      <td>0.015017</td>\n",
       "      <td>-0.046988</td>\n",
       "      <td>-0.009855</td>\n",
       "      <td>0.004833</td>\n",
       "      <td>-0.030857</td>\n",
       "      <td>-0.031925</td>\n",
       "      <td>-0.033380</td>\n",
       "      <td>-0.028763</td>\n",
       "    </tr>\n",
       "    <tr>\n",
       "      <th>2/18/2022 0:00</th>\n",
       "      <td>-0.006475</td>\n",
       "      <td>-0.009356</td>\n",
       "      <td>-0.009631</td>\n",
       "      <td>-0.013262</td>\n",
       "      <td>-0.022103</td>\n",
       "      <td>-0.016116</td>\n",
       "      <td>-0.013914</td>\n",
       "      <td>-0.007462</td>\n",
       "      <td>-0.035296</td>\n",
       "      <td>0.003987</td>\n",
       "      <td>...</td>\n",
       "      <td>-0.000646</td>\n",
       "      <td>-0.000908</td>\n",
       "      <td>0.007203</td>\n",
       "      <td>-0.000436</td>\n",
       "      <td>-0.003916</td>\n",
       "      <td>-0.005942</td>\n",
       "      <td>-0.013674</td>\n",
       "      <td>-0.004506</td>\n",
       "      <td>-0.003677</td>\n",
       "      <td>0.015038</td>\n",
       "    </tr>\n",
       "    <tr>\n",
       "      <th>2/22/2022 0:00</th>\n",
       "      <td>-0.010732</td>\n",
       "      <td>-0.017812</td>\n",
       "      <td>-0.000729</td>\n",
       "      <td>-0.015753</td>\n",
       "      <td>-0.041366</td>\n",
       "      <td>-0.004521</td>\n",
       "      <td>-0.008163</td>\n",
       "      <td>-0.019790</td>\n",
       "      <td>-0.010659</td>\n",
       "      <td>-0.002033</td>\n",
       "      <td>...</td>\n",
       "      <td>0.009494</td>\n",
       "      <td>0.007121</td>\n",
       "      <td>-0.008891</td>\n",
       "      <td>0.003243</td>\n",
       "      <td>-0.001147</td>\n",
       "      <td>-0.000673</td>\n",
       "      <td>0.008342</td>\n",
       "      <td>-0.037654</td>\n",
       "      <td>-0.002246</td>\n",
       "      <td>-0.013605</td>\n",
       "    </tr>\n",
       "    <tr>\n",
       "      <th>...</th>\n",
       "      <td>...</td>\n",
       "      <td>...</td>\n",
       "      <td>...</td>\n",
       "      <td>...</td>\n",
       "      <td>...</td>\n",
       "      <td>...</td>\n",
       "      <td>...</td>\n",
       "      <td>...</td>\n",
       "      <td>...</td>\n",
       "      <td>...</td>\n",
       "      <td>...</td>\n",
       "      <td>...</td>\n",
       "      <td>...</td>\n",
       "      <td>...</td>\n",
       "      <td>...</td>\n",
       "      <td>...</td>\n",
       "      <td>...</td>\n",
       "      <td>...</td>\n",
       "      <td>...</td>\n",
       "      <td>...</td>\n",
       "      <td>...</td>\n",
       "    </tr>\n",
       "    <tr>\n",
       "      <th>2/3/2023 0:00</th>\n",
       "      <td>-0.010629</td>\n",
       "      <td>0.024400</td>\n",
       "      <td>-0.023621</td>\n",
       "      <td>-0.084315</td>\n",
       "      <td>0.009083</td>\n",
       "      <td>-0.027474</td>\n",
       "      <td>-0.032904</td>\n",
       "      <td>-0.011866</td>\n",
       "      <td>-0.028053</td>\n",
       "      <td>-0.010742</td>\n",
       "      <td>...</td>\n",
       "      <td>-0.004694</td>\n",
       "      <td>-0.011251</td>\n",
       "      <td>-0.001277</td>\n",
       "      <td>-0.002677</td>\n",
       "      <td>0.038211</td>\n",
       "      <td>0.004134</td>\n",
       "      <td>0.002336</td>\n",
       "      <td>-0.008916</td>\n",
       "      <td>-0.005954</td>\n",
       "      <td>0.001617</td>\n",
       "    </tr>\n",
       "    <tr>\n",
       "      <th>2/6/2023 0:00</th>\n",
       "      <td>-0.006111</td>\n",
       "      <td>-0.017929</td>\n",
       "      <td>-0.006116</td>\n",
       "      <td>-0.011703</td>\n",
       "      <td>0.025161</td>\n",
       "      <td>-0.017942</td>\n",
       "      <td>-0.016632</td>\n",
       "      <td>-0.002520</td>\n",
       "      <td>-0.000521</td>\n",
       "      <td>-0.000259</td>\n",
       "      <td>...</td>\n",
       "      <td>-0.014451</td>\n",
       "      <td>0.003945</td>\n",
       "      <td>0.001066</td>\n",
       "      <td>-0.007102</td>\n",
       "      <td>0.022012</td>\n",
       "      <td>0.021826</td>\n",
       "      <td>-0.041181</td>\n",
       "      <td>0.005106</td>\n",
       "      <td>-0.009782</td>\n",
       "      <td>-0.004595</td>\n",
       "    </tr>\n",
       "    <tr>\n",
       "      <th>2/7/2023 0:00</th>\n",
       "      <td>0.013079</td>\n",
       "      <td>0.019245</td>\n",
       "      <td>0.042022</td>\n",
       "      <td>-0.000685</td>\n",
       "      <td>0.010526</td>\n",
       "      <td>0.046064</td>\n",
       "      <td>0.044167</td>\n",
       "      <td>0.029883</td>\n",
       "      <td>0.051401</td>\n",
       "      <td>0.014720</td>\n",
       "      <td>...</td>\n",
       "      <td>-0.000368</td>\n",
       "      <td>-0.016473</td>\n",
       "      <td>-0.008518</td>\n",
       "      <td>0.019544</td>\n",
       "      <td>-0.003590</td>\n",
       "      <td>-0.001641</td>\n",
       "      <td>0.003573</td>\n",
       "      <td>0.001451</td>\n",
       "      <td>0.008669</td>\n",
       "      <td>-0.003618</td>\n",
       "    </tr>\n",
       "    <tr>\n",
       "      <th>2/8/2023 0:00</th>\n",
       "      <td>-0.010935</td>\n",
       "      <td>-0.017653</td>\n",
       "      <td>-0.003102</td>\n",
       "      <td>-0.020174</td>\n",
       "      <td>0.022763</td>\n",
       "      <td>-0.076830</td>\n",
       "      <td>-0.074417</td>\n",
       "      <td>-0.042741</td>\n",
       "      <td>0.001443</td>\n",
       "      <td>-0.014346</td>\n",
       "      <td>...</td>\n",
       "      <td>-0.008469</td>\n",
       "      <td>-0.004456</td>\n",
       "      <td>-0.001289</td>\n",
       "      <td>-0.018009</td>\n",
       "      <td>-0.004416</td>\n",
       "      <td>0.002819</td>\n",
       "      <td>-0.015526</td>\n",
       "      <td>0.004106</td>\n",
       "      <td>-0.015391</td>\n",
       "      <td>0.009363</td>\n",
       "    </tr>\n",
       "    <tr>\n",
       "      <th>2/9/2023 0:00</th>\n",
       "      <td>-0.008669</td>\n",
       "      <td>-0.006912</td>\n",
       "      <td>-0.011660</td>\n",
       "      <td>-0.018091</td>\n",
       "      <td>0.029957</td>\n",
       "      <td>-0.043876</td>\n",
       "      <td>-0.045400</td>\n",
       "      <td>-0.030039</td>\n",
       "      <td>0.005945</td>\n",
       "      <td>-0.004117</td>\n",
       "      <td>...</td>\n",
       "      <td>-0.016588</td>\n",
       "      <td>-0.007717</td>\n",
       "      <td>-0.003656</td>\n",
       "      <td>0.004275</td>\n",
       "      <td>-0.001634</td>\n",
       "      <td>0.000937</td>\n",
       "      <td>-0.014391</td>\n",
       "      <td>0.001443</td>\n",
       "      <td>-0.016619</td>\n",
       "      <td>0.005603</td>\n",
       "    </tr>\n",
       "  </tbody>\n",
       "</table>\n",
       "<p>248 rows × 100 columns</p>\n",
       "</div>"
      ],
      "text/plain": [
       "                     SPY      AAPL      MSFT      AMZN      TSLA     GOOGL  \\\n",
       "Date                                                                         \n",
       "2/15/2022 0:00  0.016127  0.023152  0.018542  0.008658  0.053291  0.007987   \n",
       "2/16/2022 0:00  0.001121 -0.001389 -0.001167  0.010159  0.001041  0.008268   \n",
       "2/17/2022 0:00 -0.021361 -0.021269 -0.029282 -0.021809 -0.050943 -0.037746   \n",
       "2/18/2022 0:00 -0.006475 -0.009356 -0.009631 -0.013262 -0.022103 -0.016116   \n",
       "2/22/2022 0:00 -0.010732 -0.017812 -0.000729 -0.015753 -0.041366 -0.004521   \n",
       "...                  ...       ...       ...       ...       ...       ...   \n",
       "2/3/2023 0:00  -0.010629  0.024400 -0.023621 -0.084315  0.009083 -0.027474   \n",
       "2/6/2023 0:00  -0.006111 -0.017929 -0.006116 -0.011703  0.025161 -0.017942   \n",
       "2/7/2023 0:00   0.013079  0.019245  0.042022 -0.000685  0.010526  0.046064   \n",
       "2/8/2023 0:00  -0.010935 -0.017653 -0.003102 -0.020174  0.022763 -0.076830   \n",
       "2/9/2023 0:00  -0.008669 -0.006912 -0.011660 -0.018091  0.029957 -0.043876   \n",
       "\n",
       "                    GOOG      META      NVDA     BRK-B  ...       PNC  \\\n",
       "Date                                                    ...             \n",
       "2/15/2022 0:00  0.008319  0.015158  0.091812  0.006109  ...  0.012807   \n",
       "2/16/2022 0:00  0.007784 -0.020181  0.000604 -0.001739  ...  0.006757   \n",
       "2/17/2022 0:00 -0.037669 -0.040778 -0.075591 -0.006653  ... -0.034949   \n",
       "2/18/2022 0:00 -0.013914 -0.007462 -0.035296  0.003987  ... -0.000646   \n",
       "2/22/2022 0:00 -0.008163 -0.019790 -0.010659 -0.002033  ...  0.009494   \n",
       "...                  ...       ...       ...       ...  ...       ...   \n",
       "2/3/2023 0:00  -0.032904 -0.011866 -0.028053 -0.010742  ... -0.004694   \n",
       "2/6/2023 0:00  -0.016632 -0.002520 -0.000521 -0.000259  ... -0.014451   \n",
       "2/7/2023 0:00   0.044167  0.029883  0.051401  0.014720  ... -0.000368   \n",
       "2/8/2023 0:00  -0.074417 -0.042741  0.001443 -0.014346  ... -0.008469   \n",
       "2/9/2023 0:00  -0.045400 -0.030039  0.005945 -0.004117  ... -0.016588   \n",
       "\n",
       "                    MDLZ        MO       ADI      GILD       LMT       SYK  \\\n",
       "Date                                                                         \n",
       "2/15/2022 0:00 -0.004082  0.004592  0.052344  0.003600 -0.012275  0.033021   \n",
       "2/16/2022 0:00 -0.002429  0.005763  0.038879  0.009294  0.012244  0.003363   \n",
       "2/17/2022 0:00  0.005326  0.015017 -0.046988 -0.009855  0.004833 -0.030857   \n",
       "2/18/2022 0:00 -0.000908  0.007203 -0.000436 -0.003916 -0.005942 -0.013674   \n",
       "2/22/2022 0:00  0.007121 -0.008891  0.003243 -0.001147 -0.000673  0.008342   \n",
       "...                  ...       ...       ...       ...       ...       ...   \n",
       "2/3/2023 0:00  -0.011251 -0.001277 -0.002677  0.038211  0.004134  0.002336   \n",
       "2/6/2023 0:00   0.003945  0.001066 -0.007102  0.022012  0.021826 -0.041181   \n",
       "2/7/2023 0:00  -0.016473 -0.008518  0.019544 -0.003590 -0.001641  0.003573   \n",
       "2/8/2023 0:00  -0.004456 -0.001289 -0.018009 -0.004416  0.002819 -0.015526   \n",
       "2/9/2023 0:00  -0.007717 -0.003656  0.004275 -0.001634  0.000937 -0.014391   \n",
       "\n",
       "                      GM       TFC       TJX  \n",
       "Date                                          \n",
       "2/15/2022 0:00  0.026240  0.028572  0.013237  \n",
       "2/16/2022 0:00  0.015301 -0.001389 -0.025984  \n",
       "2/17/2022 0:00 -0.031925 -0.033380 -0.028763  \n",
       "2/18/2022 0:00 -0.004506 -0.003677  0.015038  \n",
       "2/22/2022 0:00 -0.037654 -0.002246 -0.013605  \n",
       "...                  ...       ...       ...  \n",
       "2/3/2023 0:00  -0.008916 -0.005954  0.001617  \n",
       "2/6/2023 0:00   0.005106 -0.009782 -0.004595  \n",
       "2/7/2023 0:00   0.001451  0.008669 -0.003618  \n",
       "2/8/2023 0:00   0.004106 -0.015391  0.009363  \n",
       "2/9/2023 0:00   0.001443 -0.016619  0.005603  \n",
       "\n",
       "[248 rows x 100 columns]"
      ]
     },
     "execution_count": 32,
     "metadata": {},
     "output_type": "execute_result"
    }
   ],
   "source": [
    "returns"
   ]
  },
  {
   "cell_type": "code",
   "execution_count": 33,
   "metadata": {
    "collapsed": false
   },
   "outputs": [],
   "source": [
    "portfolio_A = portfolio_df[portfolio_df['Portfolio'] == 'A']\n",
    "A = dict(zip(portfolio_A['Stock'], portfolio_A['Holding']))\n",
    "portfolio_B = portfolio_df[portfolio_df['Portfolio'] == 'B']\n",
    "B = dict(zip(portfolio_B['Stock'], portfolio_B['Holding']))\n",
    "portfolio_C = portfolio_df[portfolio_df['Portfolio'] == 'C']\n",
    "C = dict(zip(portfolio_C['Stock'], portfolio_C['Holding']))\n",
    "total = {}\n",
    "for k in (set(A) | set(B) | set(C)):\n",
    "    total[k] = A.get(k, 0) + B.get(k, 0) + C.get(k, 0)"
   ]
  },
  {
   "cell_type": "code",
   "execution_count": 34,
   "metadata": {
    "collapsed": false
   },
   "outputs": [],
   "source": [
    "def portfolio_VaR_ES_t(P):\n",
    "    prices_P = prices[['Date'] + list(P.keys())]\n",
    "    holdings = np.array(list(P.values()))\n",
    "    current_value_P = holdings.T @ prices_P.iloc[-1, 1:]\n",
    "    VaR = np.zeros(len(P))\n",
    "    ES = np.zeros(len(P))\n",
    "    for i, k in enumerate(P.keys()):\n",
    "        VaR[i], ES[i] = risk.BySim().VaR_ES_t(returns[k])\n",
    "    new_value_P = holdings.T @ ((-VaR + 1) * np.array(prices_P.iloc[-1, 1:]))\n",
    "    expected_bad = holdings.T @ ((-ES + 1) * np.array(prices_P.iloc[-1, 1:]))\n",
    "    return current_value_P - new_value_P, current_value_P - expected_bad"
   ]
  },
  {
   "cell_type": "code",
   "execution_count": 35,
   "metadata": {
    "collapsed": false
   },
   "outputs": [
    {
     "data": {
      "text/plain": [
       "(10647.727417554357, 14620.255458208383)"
      ]
     },
     "execution_count": 35,
     "metadata": {},
     "output_type": "execute_result"
    }
   ],
   "source": [
    "portfolio_VaR_ES_t(A)"
   ]
  },
  {
   "cell_type": "code",
   "execution_count": 36,
   "metadata": {
    "collapsed": false
   },
   "outputs": [
    {
     "data": {
      "text/plain": [
       "(9506.084103857924, 13049.634599607263)"
      ]
     },
     "execution_count": 36,
     "metadata": {},
     "output_type": "execute_result"
    }
   ],
   "source": [
    "portfolio_VaR_ES_t(B)"
   ]
  },
  {
   "cell_type": "code",
   "execution_count": 37,
   "metadata": {
    "collapsed": false
   },
   "outputs": [
    {
     "data": {
      "text/plain": [
       "(8121.235771854961, 11338.453738211683)"
      ]
     },
     "execution_count": 37,
     "metadata": {},
     "output_type": "execute_result"
    }
   ],
   "source": [
    "portfolio_VaR_ES_t(C)"
   ]
  },
  {
   "cell_type": "code",
   "execution_count": 38,
   "metadata": {
    "collapsed": false
   },
   "outputs": [
    {
     "data": {
      "text/plain": [
       "(28231.898692175047, 39003.75355828123)"
      ]
     },
     "execution_count": 38,
     "metadata": {},
     "output_type": "execute_result"
    }
   ],
   "source": [
    "portfolio_VaR_ES_t(total)"
   ]
  },
  {
   "cell_type": "code",
   "execution_count": 38,
   "metadata": {
    "collapsed": false
   },
   "outputs": [],
   "source": []
  }
 ],
 "metadata": {
  "kernelspec": {
   "display_name": "Python 3",
   "language": "python",
   "name": "python3"
  },
  "language_info": {
   "codemirror_mode": {
    "name": "ipython",
    "version": 2
   },
   "file_extension": ".py",
   "mimetype": "text/x-python",
   "name": "python",
   "nbconvert_exporter": "python",
   "pygments_lexer": "ipython2",
   "version": "3.10.10"
  },
  "vscode": {
   "interpreter": {
    "hash": "97cc609b13305c559618ec78a438abc56230b9381f827f22d070313b9a1f3777"
   }
  }
 },
 "nbformat": 4,
 "nbformat_minor": 0
}
