{
 "cells": [
  {
   "cell_type": "markdown",
   "source": [
    "# week7 solutions\n",
    "### Peilin Luo"
   ],
   "metadata": {
    "collapsed": false
   }
  },
  {
   "cell_type": "code",
   "execution_count": 30,
   "outputs": [],
   "source": [
    "import numpy as np\n",
    "import pandas as pd\n",
    "import scipy.stats as sps\n",
    "import matplotlib.pyplot as plt\n",
    "from scipy.optimize import fsolve, minimize\n",
    "from sklearn import linear_model\n",
    "from riskill import risk\n",
    "import datetime"
   ],
   "metadata": {
    "collapsed": false
   }
  },
  {
   "cell_type": "markdown",
   "source": [
    "### problem 1"
   ],
   "metadata": {
    "collapsed": false
   }
  },
  {
   "cell_type": "code",
   "execution_count": 2,
   "outputs": [],
   "source": [
    "def gbsm(call:bool, underlying, strike, ttm, rf, b, ivol):\n",
    "    d1 = (np.log(underlying/strike) + (b + ivol**2 / 2) * ttm) / (ivol * np.sqrt(ttm))\n",
    "    d2 = d1 - ivol * np.sqrt(ttm)\n",
    "    if call:\n",
    "        return underlying*np.exp((b-rf)*ttm)*sps.norm.cdf(d1) - strike*np.exp(-rf*ttm)*sps.norm.cdf(d2)\n",
    "    elif not call:\n",
    "        return strike*np.exp(-rf*ttm)*sps.norm.cdf(-d2) - underlying*np.exp((b-rf)*ttm)*sps.norm.cdf(-d1)\n",
    "    else:\n",
    "        raise ValueError(\"call must be True or False\")"
   ],
   "metadata": {
    "collapsed": false
   }
  },
  {
   "cell_type": "code",
   "execution_count": 3,
   "outputs": [],
   "source": [
    "def bt_american(call:bool, underlying, strike, ttm, rf, b, ivol, N):\n",
    "    dt = ttm/N\n",
    "    u = np.exp(ivol*np.sqrt(dt))\n",
    "    d = 1/u\n",
    "    pu = (np.exp(b*dt)-d)/(u-d)\n",
    "    pdown = 1. - pu\n",
    "    df = np.exp(-rf*dt)\n",
    "    z = 1 if call else -1\n",
    "\n",
    "    def nNodeFunc(n):\n",
    "        return int((n+1)*(n+2)/2)\n",
    "\n",
    "    def idxFunc(i, j):\n",
    "        return int(nNodeFunc(j-1)+i)\n",
    "\n",
    "    nNodes = nNodeFunc(N)\n",
    "    optionValues = np.zeros(nNodes)\n",
    "\n",
    "    for j in range(N, -1, -1):\n",
    "        for i in range(j, -1, -1):\n",
    "            idx = idxFunc(i, j)\n",
    "            price = underlying * u**i * d**(j-i)\n",
    "            optionValues[idx] = max(0, z*(price-strike))\n",
    "\n",
    "            if j < N:\n",
    "                optionValues[idx] = max(optionValues[idx], df*(pu*optionValues[idxFunc(i+1, j+1)]+pdown*optionValues[idxFunc(i, j+1)]))\n",
    "\n",
    "    return optionValues[0]"
   ],
   "metadata": {
    "collapsed": false
   }
  },
  {
   "cell_type": "code",
   "execution_count": 4,
   "outputs": [],
   "source": [
    "def bt_american_with_div(call:bool, underlying, strike, ttm, rf, divAmts:list, divTimes:list, ivol, N):\n",
    "    if not (len(divAmts) and len(divTimes)):\n",
    "        return bt_american(call, underlying, strike, ttm, rf, rf, ivol, N)\n",
    "    elif divTimes[0] > N:\n",
    "        return bt_american(call, underlying, strike, ttm, rf, rf, ivol, N)\n",
    "\n",
    "    dt = ttm/N\n",
    "    u = np.exp(ivol*np.sqrt(dt))\n",
    "    d = 1/u\n",
    "    pu = (np.exp(rf*dt)-d)/(u-d)\n",
    "    pdown = 1. - pu\n",
    "    df = np.exp(-rf*dt)\n",
    "    z = 1 if call else -1\n",
    "\n",
    "    def nNodeFunc(n):\n",
    "        return int((n+1)*(n+2)/2)\n",
    "\n",
    "    def idxFunc(i, j):\n",
    "        return int(nNodeFunc(j-1)+i)\n",
    "\n",
    "    nNodes = nNodeFunc(divTimes[0])\n",
    "    optionValues = np.zeros(nNodes)\n",
    "\n",
    "    for j in range(divTimes[0], -1, -1):\n",
    "        for i in range(j, -1, -1):\n",
    "            idx = idxFunc(i, j)\n",
    "            price = underlying * u**i * d**(j-i)\n",
    "\n",
    "            if j < divTimes[0]:\n",
    "                optionValues[idx] = max(0, z*(price-strike))\n",
    "                optionValues[idx] = max(optionValues[idx], df*(pu*optionValues[idxFunc(i+1, j+1)] + pdown*optionValues[idxFunc(i, j+1)]))\n",
    "            else:\n",
    "                # time of dividend (recursively)\n",
    "                valNoExercise = bt_american_with_div(call, price-divAmts[0], strike, ttm-divTimes[0]*dt, rf, divAmts[1:], [x-divTimes[0] for x in divTimes[1:]], ivol, N-divTimes[0])\n",
    "                valExercise = max(0, z*(price-strike))\n",
    "                optionValues[idx] = max(valNoExercise, valExercise)\n",
    "\n",
    "    return optionValues[0]"
   ],
   "metadata": {
    "collapsed": false
   }
  },
  {
   "cell_type": "code",
   "execution_count": 5,
   "outputs": [],
   "source": [
    "class Greeks:\n",
    "    def __init__(self, call:bool, underlying, strike, ttm, rf, b, ivol,  N=None, divAmts:list=[], divTimes:list=[]):\n",
    "        self._call = call\n",
    "        self._underlying = underlying\n",
    "        self._strike = strike\n",
    "        self._ttm = ttm\n",
    "        self._rf = rf\n",
    "        self._b = b\n",
    "        self._ivol = ivol\n",
    "        self._N = N\n",
    "        self._divAmts = divAmts\n",
    "        self._divTimes = divTimes\n",
    "\n",
    "    def d1(self):\n",
    "        return (np.log(self._underlying/self._strike) + (self._b + self._ivol**2 / 2) * self._ttm) / (self._ivol * np.sqrt(self._ttm))\n",
    "\n",
    "    def d2(self):\n",
    "        return self.d1() - self._ivol * np.sqrt(self._ttm)\n",
    "\n",
    "    def delta(self):\n",
    "        \"\"\"\n",
    "        first derivative of value wrt underlying\n",
    "        \"\"\"\n",
    "        if self._call:\n",
    "            return np.exp((self._b - self._rf)*self._ttm) * sps.norm.cdf(self.d1())\n",
    "        else:\n",
    "            return np.exp((self._b - self._rf)*self._ttm) * (sps.norm.cdf(self.d1())-1)\n",
    "\n",
    "    def delta_finite_dif(self, step:float):\n",
    "        \"\"\"\n",
    "        first finite difference of value wrt underlying\n",
    "        \"\"\"\n",
    "        if self._N is not None and len(self._divAmts) and len(self._divTimes):\n",
    "            p1 = bt_american_with_div(self._call, self._underlying+step, self._strike, self._ttm, self._rf, self._divAmts, self._divTimes, self._ivol, self._N)\n",
    "            p2 = bt_american_with_div(self._call, self._underlying-step, self._strike, self._ttm, self._rf, self._divAmts, self._divTimes, self._ivol, self._N)\n",
    "        elif self._N is not None and not (len(self._divAmts) and len(self._divTimes)):\n",
    "            p1 = bt_american(self._call, self._underlying+step, self._strike, self._ttm, self._rf, self._b, self._ivol, self._N)\n",
    "            p2 = bt_american(self._call, self._underlying-step, self._strike, self._ttm, self._rf, self._b, self._ivol, self._N)\n",
    "        else:\n",
    "            p1 = gbsm(self._call, self._underlying+step, self._strike, self._ttm, self._rf, self._b, self._ivol)\n",
    "            p2 = gbsm(self._call, self._underlying-step, self._strike, self._ttm, self._rf, self._b, self._ivol)\n",
    "\n",
    "        return (p1-p2) / (2*step)\n",
    "\n",
    "    def gamma(self):\n",
    "        \"\"\"\n",
    "        second derivative of value wrt underlying (convexity)\n",
    "        \"\"\"\n",
    "        nominator = np.exp((self._b - self._rf)*self._ttm) * sps.norm.pdf(self.d1())\n",
    "        denominator = self._underlying*self._ivol*np.sqrt(self._ttm)\n",
    "        return nominator / denominator\n",
    "\n",
    "    def gamma_finite_dif(self, step:float):\n",
    "        \"\"\"\n",
    "        second finite difference of value wrt underlying (convexity)\n",
    "        \"\"\"\n",
    "        if self._N is not None and len(self._divAmts) and len(self._divTimes):\n",
    "            p1 = bt_american_with_div(self._call, self._underlying+step, self._strike, self._ttm, self._rf, self._divAmts, self._divTimes, self._ivol, self._N)\n",
    "            p2 = bt_american_with_div(self._call, self._underlying-step, self._strike, self._ttm, self._rf, self._divAmts, self._divTimes, self._ivol, self._N)\n",
    "            p3 = bt_american_with_div(self._call, self._underlying, self._strike, self._ttm, self._rf, self._divAmts, self._divTimes, self._ivol, self._N)\n",
    "        elif self._N is not None and not (len(self._divAmts) and len(self._divTimes)):\n",
    "            p1 = bt_american(self._call, self._underlying+step, self._strike, self._ttm, self._rf, self._b, self._ivol, self._N)\n",
    "            p2 = bt_american(self._call, self._underlying-step, self._strike, self._ttm, self._rf, self._b, self._ivol, self._N)\n",
    "            p3 = bt_american(self._call, self._underlying, self._strike, self._ttm, self._rf, self._b, self._ivol, self._N)\n",
    "        else:\n",
    "            p1 = gbsm(self._call, self._underlying+step, self._strike, self._ttm, self._rf, self._b, self._ivol)\n",
    "            p2 = gbsm(self._call, self._underlying-step, self._strike, self._ttm, self._rf, self._b, self._ivol)\n",
    "            p3 = gbsm(self._call, self._underlying, self._strike, self._ttm, self._rf, self._b, self._ivol)\n",
    "\n",
    "        return (p1+p2-2*p3) / (step**2)\n",
    "\n",
    "    def vega(self):\n",
    "        \"\"\"\n",
    "        first derivative of value wrt implied volatility\n",
    "        \"\"\"\n",
    "        return self._underlying*np.exp((self._b - self._rf)*self._ttm)*sps.norm.pdf(self.d1())*np.sqrt(self._ttm)\n",
    "\n",
    "    def vega_finite_dif(self, step:float):\n",
    "        \"\"\"\n",
    "        first finite difference of value wrt implied volatility\n",
    "        \"\"\"\n",
    "        if self._N is not None and len(self._divAmts) and len(self._divTimes):\n",
    "            p1 = bt_american_with_div(self._call, self._underlying, self._strike, self._ttm, self._rf, self._divAmts, self._divTimes, self._ivol+step, self._N)\n",
    "            p2 = bt_american_with_div(self._call, self._underlying, self._strike, self._ttm, self._rf, self._divAmts, self._divTimes, self._ivol-step, self._N)\n",
    "        elif self._N is not None and not (len(self._divAmts) and len(self._divTimes)):\n",
    "            p1 = bt_american(self._call, self._underlying, self._strike, self._ttm, self._rf, self._b, self._ivol+step, self._N)\n",
    "            p2 = bt_american(self._call, self._underlying, self._strike, self._ttm, self._rf, self._b, self._ivol-step, self._N)\n",
    "        else:\n",
    "            p1 = gbsm(self._call, self._underlying, self._strike, self._ttm, self._rf, self._b, self._ivol+step)\n",
    "            p2 = gbsm(self._call, self._underlying, self._strike, self._ttm, self._rf, self._b, self._ivol-step)\n",
    "        return (p1-p2) / (2*step)\n",
    "\n",
    "    def theta(self):\n",
    "        \"\"\"\n",
    "        first derivative of value wrt ttm\n",
    "        \"\"\"\n",
    "        p1 = -self._underlying*np.exp((self._b - self._rf)*self._ttm)*sps.norm.pdf(self.d1())*self._ivol / (2*np.sqrt(self._ttm))\n",
    "        p2 = (self._b - self._rf)*self._underlying*np.exp((self._b - self._rf)*self._ttm)\n",
    "        p3 = self._rf*self._strike*np.exp(-self._rf*self._ttm)\n",
    "        if self._call:\n",
    "            return p1-p2*sps.norm.cdf(self.d1())-p3*sps.norm.cdf(self.d2())\n",
    "        else:\n",
    "            return p1+p2*sps.norm.cdf(-self.d1())+p3*sps.norm.cdf(-self.d2())\n",
    "\n",
    "    def theta_finite_dif(self, step:float):\n",
    "        \"\"\"\n",
    "        first finite difference of value wrt ttm\n",
    "        \"\"\"\n",
    "        if self._N is not None and len(self._divAmts) and len(self._divTimes):\n",
    "            p1 = bt_american_with_div(self._call, self._underlying, self._strike, self._ttm+step, self._rf, self._divAmts, self._divTimes, self._ivol, self._N)\n",
    "            p2 = bt_american_with_div(self._call, self._underlying, self._strike, self._ttm-step, self._rf, self._divAmts, self._divTimes, self._ivol, self._N)\n",
    "        elif self._N is not None and not (len(self._divAmts) and len(self._divTimes)):\n",
    "            p1 = bt_american(self._call, self._underlying, self._strike, self._ttm+step, self._rf, self._b, self._ivol, self._N)\n",
    "            p2 = bt_american(self._call, self._underlying, self._strike, self._ttm-step, self._rf, self._b, self._ivol, self._N)\n",
    "        else:\n",
    "            p1 = gbsm(self._call, self._underlying, self._strike, self._ttm+step, self._rf, self._b, self._ivol)\n",
    "            p2 = gbsm(self._call, self._underlying, self._strike, self._ttm-step, self._rf, self._b, self._ivol)\n",
    "\n",
    "        return -(p1-p2) / (2*step)\n",
    "\n",
    "    def rho(self):\n",
    "        \"\"\"\n",
    "        first derivative of value wrt rf where rf=b\n",
    "        \"\"\"\n",
    "        p1 = self._ttm*self._strike*np.exp(-self._rf*self._ttm)\n",
    "        if self._call:\n",
    "            return p1*sps.norm.cdf(self.d2())\n",
    "        else:\n",
    "            return -p1*sps.norm.cdf(-self.d2())\n",
    "\n",
    "    def rho_finite_dif(self, step:float):\n",
    "        \"\"\"\n",
    "        first finite difference of value wrt rf\n",
    "        \"\"\"\n",
    "        if self._N is not None and len(self._divAmts) and len(self._divTimes):\n",
    "            p1 = bt_american_with_div(self._call, self._underlying, self._strike, self._ttm, self._rf+step, self._divAmts, self._divTimes, self._ivol, self._N)\n",
    "            p2 = bt_american_with_div(self._call, self._underlying, self._strike, self._ttm, self._rf-step, self._divAmts, self._divTimes, self._ivol, self._N)\n",
    "        elif self._N is not None and not (len(self._divAmts) and len(self._divTimes)):\n",
    "            p1 = bt_american(self._call, self._underlying, self._strike, self._ttm, self._rf+step, self._b, self._ivol, self._N)\n",
    "            p2 = bt_american(self._call, self._underlying, self._strike, self._ttm, self._rf-step, self._b, self._ivol, self._N)\n",
    "        else:\n",
    "            p1 = gbsm(self._call, self._underlying, self._strike, self._ttm, self._rf+step, self._b, self._ivol)\n",
    "            p2 = gbsm(self._call, self._underlying, self._strike, self._ttm, self._rf-step, self._b, self._ivol)\n",
    "\n",
    "        return (p1-p2) / (2*step)\n",
    "\n",
    "    def carry_rho(self):\n",
    "        \"\"\"\n",
    "        first derivative of value wrt b\n",
    "        \"\"\"\n",
    "        p1 = self._ttm*self._underlying*np.exp((self._b - self._rf)*self._ttm)\n",
    "        if self._call:\n",
    "            return p1*sps.norm.cdf(self.d1())\n",
    "        else:\n",
    "            return -p1*sps.norm.cdf(-self.d1())\n",
    "\n",
    "    def carry_rho_finite_dif(self, step:float):\n",
    "        \"\"\"\n",
    "        first finite difference of value wrt b\n",
    "        \"\"\"\n",
    "        if self._N is not None and len(self._divAmts) and len(self._divTimes):\n",
    "            raise ValueError(\"option with discrete dividends does not have carry rho\")\n",
    "        elif self._N is not None and not (len(self._divAmts) and len(self._divTimes)):\n",
    "            p1 = bt_american(self._call, self._underlying, self._strike, self._ttm, self._rf, self._b+step, self._ivol, self._N)\n",
    "            p2 = bt_american(self._call, self._underlying, self._strike, self._ttm, self._rf, self._b-step, self._ivol, self._N)\n",
    "        else:\n",
    "            p1 = gbsm(self._call, self._underlying, self._strike, self._ttm, self._rf, self._b+step, self._ivol)\n",
    "            p2 = gbsm(self._call, self._underlying, self._strike, self._ttm, self._rf, self._b-step, self._ivol)\n",
    "\n",
    "        return (p1-p2) / (2*step)"
   ],
   "metadata": {
    "collapsed": false
   }
  },
  {
   "cell_type": "code",
   "execution_count": 6,
   "outputs": [],
   "source": [
    "underlying = 165\n",
    "strike = 165\n",
    "rf = 0.0425\n",
    "divRate = 0.0053\n",
    "current = datetime.datetime(2022, 3, 13)\n",
    "expire = datetime.datetime(2022, 4, 15)\n",
    "calendarDays = (datetime.datetime(2022, 12, 31) - datetime.datetime(2021, 12, 31)).days\n",
    "ttm = (expire - current).days / calendarDays\n",
    "b = rf - divRate\n",
    "ivol = 0.2"
   ],
   "metadata": {
    "collapsed": false
   }
  },
  {
   "cell_type": "code",
   "execution_count": 7,
   "outputs": [
    {
     "name": "stdout",
     "output_type": "stream",
     "text": [
      "for call option in gbsm:\n",
      "closed form delta: 0.5340, finite difference: 0.5339\n",
      "closed form gamma: 0.0400, finite difference: 0.0400\n",
      "closed form vega: 19.7102, finite difference: 19.7101\n",
      "closed form theta: -24.8985, finite difference: -24.9322\n",
      "finite difference rho: -0.3827\n",
      "closed form carry rho: 7.9662, finite difference: 7.9663\n"
     ]
    }
   ],
   "source": [
    "g = Greeks(True, underlying, strike, ttm, rf, b, ivol)\n",
    "print(\"for call option in gbsm:\")\n",
    "print(\"closed form delta: {:.4f}, finite difference: {:.4f}\".format(g.delta(), g.delta_finite_dif(1)))\n",
    "print(\"closed form gamma: {:.4f}, finite difference: {:.4f}\".format(g.gamma(), g.gamma_finite_dif(1.)))\n",
    "print(\"closed form vega: {:.4f}, finite difference: {:.4f}\".format(g.vega(), g.vega_finite_dif(0.01)))\n",
    "print(\"closed form theta: {:.4f}, finite difference: {:.4f}\".format(g.theta(), g.theta_finite_dif(0.01)))\n",
    "print(\"finite difference rho: {:.4f}\".format(g.rho_finite_dif(0.0001)))\n",
    "print(\"closed form carry rho: {:.4f}, finite difference: {:.4f}\".format(g.carry_rho(), g.carry_rho_finite_dif(0.01)))"
   ],
   "metadata": {
    "collapsed": false
   }
  },
  {
   "cell_type": "code",
   "execution_count": 8,
   "outputs": [
    {
     "name": "stdout",
     "output_type": "stream",
     "text": [
      "for put option in gbsm:\n",
      "closed form delta: -0.4655, finite difference: -0.4656\n",
      "closed form gamma: 0.0400, finite difference: 0.0400\n",
      "closed form vega: 19.7102, finite difference: 19.7101\n",
      "closed form theta: -18.7870, finite difference: -18.8207\n",
      "finite difference rho: -0.3326\n",
      "closed form carry rho: -6.9444, finite difference: -6.9444\n"
     ]
    }
   ],
   "source": [
    "g = Greeks(False, underlying, strike, ttm, rf, b, ivol)\n",
    "print(\"for put option in gbsm:\")\n",
    "print(\"closed form delta: {:.4f}, finite difference: {:.4f}\".format(g.delta(), g.delta_finite_dif(1)))\n",
    "print(\"closed form gamma: {:.4f}, finite difference: {:.4f}\".format(g.gamma(), g.gamma_finite_dif(1.)))\n",
    "print(\"closed form vega: {:.4f}, finite difference: {:.4f}\".format(g.vega(), g.vega_finite_dif(0.01)))\n",
    "print(\"closed form theta: {:.4f}, finite difference: {:.4f}\".format(g.theta(), g.theta_finite_dif(0.01)))\n",
    "print(\"finite difference rho: {:.4f}\".format(g.rho_finite_dif(0.0001)))\n",
    "print(\"closed form carry rho: {:.4f}, finite difference: {:.4f}\".format(g.carry_rho(), g.carry_rho_finite_dif(0.01)))"
   ],
   "metadata": {
    "collapsed": false
   }
  },
  {
   "cell_type": "code",
   "execution_count": 9,
   "outputs": [
    {
     "name": "stdout",
     "output_type": "stream",
     "text": [
      "the price for call option without discrete dividend:  4.2623\n",
      "the price for put option without discrete dividend:  3.7497\n",
      "the price for call option with discrete dividend:  4.1258\n",
      "the price for put option with discrete dividend:  4.1258\n"
     ]
    }
   ],
   "source": [
    "N = (expire - current).days\n",
    "price1 = bt_american(True, underlying, strike, ttm, rf, b, ivol, N)\n",
    "print(\"the price for call option without discrete dividend: \", round(price1, 4))\n",
    "price2 = bt_american(False, underlying, strike, ttm, rf, b, ivol, N)\n",
    "print(\"the price for put option without discrete dividend: \", round(price2, 4))\n",
    "divA = [0.88]\n",
    "div1 = datetime.datetime(2022, 4, 11)\n",
    "divT = [(div1 - current).days]\n",
    "price3 = bt_american_with_div(True, underlying, strike, ttm, rf, divA, divT, ivol, N)\n",
    "print(\"the price for call option with discrete dividend: \", round(price3, 4))\n",
    "price4 = bt_american_with_div(True, underlying, strike, ttm, rf, divA, divT, ivol, N)\n",
    "print(\"the price for put option with discrete dividend: \", round(price4, 4))"
   ],
   "metadata": {
    "collapsed": false
   }
  },
  {
   "cell_type": "code",
   "execution_count": 10,
   "outputs": [
    {
     "name": "stdout",
     "output_type": "stream",
     "text": [
      "for call option in binomial tree without discrete dividends:\n",
      "delta finite difference: 0.5343\n",
      "gamma finite difference: 0.0000\n",
      "vega finite difference: 19.8606\n",
      "theta finite difference: -25.0951\n",
      "rho finite difference: -0.3854\n",
      "carry rho finite difference: 7.9600\n"
     ]
    }
   ],
   "source": [
    "g = Greeks(True, underlying, strike, ttm, rf, b, ivol, N)\n",
    "print(\"for call option in binomial tree without discrete dividends:\")\n",
    "print(\"delta finite difference: {:.4f}\".format(g.delta_finite_dif(1)))\n",
    "print(\"gamma finite difference: {:.4f}\".format(g.gamma_finite_dif(1.)))\n",
    "print(\"vega finite difference: {:.4f}\".format(g.vega_finite_dif(0.01)))\n",
    "print(\"theta finite difference: {:.4f}\".format(g.theta_finite_dif(0.01)))\n",
    "print(\"rho finite difference: {:.4f}\".format(g.rho_finite_dif(0.0001)))\n",
    "print(\"carry rho finite difference: {:.4f}\".format(g.carry_rho_finite_dif(0.01)))"
   ],
   "metadata": {
    "collapsed": false
   }
  },
  {
   "cell_type": "code",
   "execution_count": 11,
   "outputs": [
    {
     "name": "stdout",
     "output_type": "stream",
     "text": [
      "for put option in binomial tree without discrete dividends:\n",
      "delta finite difference: -0.4699\n",
      "gamma finite difference: 0.0032\n",
      "vega finite difference: 19.8376\n",
      "theta finite difference: -19.4872\n",
      "rho finite difference: -0.2457\n",
      "carry rho finite difference: -5.7825\n"
     ]
    }
   ],
   "source": [
    "g = Greeks(False, underlying, strike, ttm, rf, b, ivol, N)\n",
    "print(\"for put option in binomial tree without discrete dividends:\")\n",
    "print(\"delta finite difference: {:.4f}\".format(g.delta_finite_dif(1)))\n",
    "print(\"gamma finite difference: {:.4f}\".format(g.gamma_finite_dif(1.)))\n",
    "print(\"vega finite difference: {:.4f}\".format(g.vega_finite_dif(0.01)))\n",
    "print(\"theta finite difference: {:.4f}\".format(g.theta_finite_dif(0.01)))\n",
    "print(\"rho finite difference: {:.4f}\".format(g.rho_finite_dif(0.0001)))\n",
    "print(\"carry rho finite difference: {:.4f}\".format(g.carry_rho_finite_dif(0.01)))"
   ],
   "metadata": {
    "collapsed": false
   }
  },
  {
   "cell_type": "code",
   "execution_count": 12,
   "outputs": [
    {
     "name": "stdout",
     "output_type": "stream",
     "text": [
      "for call option in binomial tree with discrete dividends:\n",
      "delta finite difference: 0.5451\n",
      "gamma finite difference: 0.0316\n",
      "vega finite difference: 19.8076\n",
      "theta finite difference: -25.1756\n",
      "rho finite difference: 6.8784\n"
     ]
    }
   ],
   "source": [
    "g = Greeks(True, underlying, strike, ttm, rf, b, ivol, N, divA, divT)\n",
    "print(\"for call option in binomial tree with discrete dividends:\")\n",
    "print(\"delta finite difference: {:.4f}\".format(g.delta_finite_dif(1)))\n",
    "print(\"gamma finite difference: {:.4f}\".format(g.gamma_finite_dif(1.)))\n",
    "print(\"vega finite difference: {:.4f}\".format(g.vega_finite_dif(0.01)))\n",
    "print(\"theta finite difference: {:.4f}\".format(g.theta_finite_dif(0.01)))\n",
    "print(\"rho finite difference: {:.4f}\".format(g.rho_finite_dif(0.0001)))"
   ],
   "metadata": {
    "collapsed": false
   }
  },
  {
   "cell_type": "code",
   "execution_count": 13,
   "outputs": [
    {
     "name": "stdout",
     "output_type": "stream",
     "text": [
      "for put option in binomial tree with discrete dividends:\n",
      "delta finite difference: -0.4780\n",
      "gamma finite difference: 0.0314\n",
      "vega finite difference: 20.0213\n",
      "theta finite difference: -18.7590\n",
      "rho finite difference: -7.2741\n"
     ]
    }
   ],
   "source": [
    "g = Greeks(False, underlying, strike, ttm, rf, b, ivol, N, divA, divT)\n",
    "print(\"for put option in binomial tree with discrete dividends:\")\n",
    "print(\"delta finite difference: {:.4f}\".format(g.delta_finite_dif(1)))\n",
    "print(\"gamma finite difference: {:.4f}\".format(g.gamma_finite_dif(1.)))\n",
    "print(\"vega finite difference: {:.4f}\".format(g.vega_finite_dif(0.01)))\n",
    "print(\"theta finite difference: {:.4f}\".format(g.theta_finite_dif(0.01)))\n",
    "print(\"rho finite difference: {:.4f}\".format(g.rho_finite_dif(0.0001)))"
   ],
   "metadata": {
    "collapsed": false
   }
  },
  {
   "cell_type": "code",
   "execution_count": 14,
   "outputs": [
    {
     "name": "stdout",
     "output_type": "stream",
     "text": [
      "the sensitivity at divAmt=$0.88:  -0.156\n"
     ]
    },
    {
     "data": {
      "text/plain": "<Figure size 640x480 with 1 Axes>",
      "image/png": "[encoded data removed]"
     },
     "metadata": {},
     "output_type": "display_data"
    }
   ],
   "source": [
    "prices = []\n",
    "for i in range(0, 200):\n",
    "    divA = [i/100]\n",
    "    prices.append(bt_american_with_div(True, underlying, strike, ttm, rf, divA, divT, ivol, N))\n",
    "\n",
    "step = 0.01\n",
    "p1 = bt_american_with_div(True, underlying, strike, ttm, rf, [0.88+step], divT, ivol, N)\n",
    "p2 = bt_american_with_div(True, underlying, strike, ttm, rf, [0.88-step], divT, ivol, N)\n",
    "print(\"the sensitivity at divAmt=$0.88: \", round((p1-p2)/(2*step), 4))\n",
    "\n",
    "plt.plot(np.linspace(0, 1.99, 200), prices)\n",
    "plt.xlabel(\"dividend amount\")\n",
    "plt.ylabel(\"option price\")\n",
    "plt.title(\"Sensitivity of the call w.r.t. the dividend amount\")\n",
    "plt.show()"
   ],
   "metadata": {
    "collapsed": false
   }
  },
  {
   "cell_type": "code",
   "execution_count": 15,
   "outputs": [
    {
     "name": "stdout",
     "output_type": "stream",
     "text": [
      "the sensitivity at divAmt=$0.88:  0.4818\n"
     ]
    },
    {
     "data": {
      "text/plain": "<Figure size 640x480 with 1 Axes>",
      "image/png": "[encoded data removed]"
     },
     "metadata": {},
     "output_type": "display_data"
    }
   ],
   "source": [
    "prices = []\n",
    "for i in range(0, 200):\n",
    "    divA = [i/100]\n",
    "    prices.append(bt_american_with_div(False, underlying, strike, ttm, rf, divA, divT, ivol, N))\n",
    "\n",
    "step = 0.01\n",
    "p1 = bt_american_with_div(False, underlying, strike, ttm, rf, [0.88+step], divT, ivol, N)\n",
    "p2 = bt_american_with_div(False, underlying, strike, ttm, rf, [0.88-step], divT, ivol, N)\n",
    "print(\"the sensitivity at divAmt=$0.88: \", round((p1-p2)/(2*step), 4))\n",
    "\n",
    "plt.plot(np.linspace(0, 1.99, 200), prices)\n",
    "plt.xlabel(\"dividend amount\")\n",
    "plt.ylabel(\"option price\")\n",
    "plt.title(\"Sensitivity of the put w.r.t. the dividend amount\")\n",
    "plt.show()"
   ],
   "metadata": {
    "collapsed": false
   }
  },
  {
   "cell_type": "markdown",
   "source": [
    "### problem 2"
   ],
   "metadata": {
    "collapsed": false
   }
  },
  {
   "cell_type": "code",
   "execution_count": 31,
   "outputs": [],
   "source": [
    "def find_iv(call:bool, underlying, strike, ttm, rf, b, option_price, N=None, divAmts:list=[], divTimes:list=[], guess=0.2):\n",
    "    if N is not None and len(divAmts) and len(divTimes):\n",
    "        def equation(iv):\n",
    "            return bt_american_with_div(call, underlying, strike, ttm, rf, divAmts, divTimes, iv, N) - option_price\n",
    "    elif N is not None and not (len(divAmts) and len(divTimes)):\n",
    "        def equation(iv):\n",
    "            return bt_american(call, underlying, strike, ttm, rf, b, iv, N) - option_price\n",
    "    else:\n",
    "        def equation(iv):\n",
    "            return gbsm(call, underlying, strike, ttm, rf, b, iv) - option_price\n",
    "    sol = fsolve(equation, guess)\n",
    "    return float(sol)"
   ],
   "metadata": {
    "collapsed": false
   }
  },
  {
   "cell_type": "code",
   "execution_count": 32,
   "outputs": [],
   "source": [
    "portfolio_df = pd.read_csv('problem2.csv')\n",
    "portfolio_df['ExpirationDate'] = pd.to_datetime(portfolio_df['ExpirationDate'])\n",
    "prices_df = pd.read_csv(\"DailyPrices.csv\")\n",
    "prices_df['Date'] = pd.to_datetime(prices_df['Date'])\n",
    "\n",
    "underlying = 151.03\n",
    "rf = 0.0425\n",
    "current = datetime.datetime(2023, 3, 3)\n",
    "calendarDays = (datetime.datetime(2023, 12, 31) - datetime.datetime(2022, 12, 31)).days\n",
    "divA = [1.]\n",
    "div1 = datetime.datetime(2023, 3, 15)\n",
    "divT = [(div1-current).days]\n",
    "\n",
    "key = portfolio_df['Portfolio'].unique()\n",
    "portfolios = {}\n",
    "for i in range(key.size):\n",
    "    portfolios[key[i]] = portfolio_df[portfolio_df['Portfolio'] == key[i]]"
   ],
   "metadata": {
    "collapsed": false
   }
  },
  {
   "cell_type": "code",
   "execution_count": 33,
   "outputs": [],
   "source": [
    "ap_returns = risk.return_calculate(prices_df, 'log')['AAPL']\n",
    "ap_returns -= ap_returns.mean()\n",
    "\n",
    "# simulate AAPL returns 10 days ahead with normal distribution\n",
    "sim_times = 1_000\n",
    "sd = sps.norm.fit(ap_returns)[1]\n",
    "sim_10_ret = sps.norm.rvs(scale=sd, size=(sim_times, 10))\n",
    "\n",
    "new_prices = underlying\n",
    "for i in range(10):\n",
    "    new_prices *= np.exp(sim_10_ret[:, i])"
   ],
   "metadata": {
    "collapsed": false
   }
  },
  {
   "cell_type": "code",
   "execution_count": 34,
   "outputs": [],
   "source": [
    "def delta_normal_VaR_ES(A, Q, delta, P, var):\n",
    "    \"\"\"\n",
    "    in dollar, consider only one underlying price, assuming μ=0\n",
    "    \"\"\"\n",
    "    PV = A@Q\n",
    "    dR = P/PV * delta@Q\n",
    "    sigma = np.sqrt(dR*var*dR)\n",
    "    P_ret = sps.norm.rvs(scale=sigma,size=10_000)\n",
    "    delta_VaR, delta_ES = risk.VaR_ES(P_ret)\n",
    "    return PV*delta_VaR, PV*delta_ES"
   ],
   "metadata": {
    "collapsed": false
   }
  },
  {
   "cell_type": "code",
   "execution_count": 35,
   "outputs": [
    {
     "name": "stdout",
     "output_type": "stream",
     "text": [
      "For portfolio Straddle\n",
      "PL mean: 1.6758\n",
      "VaR and ES: 1.3353 1.366\n",
      "delta normal VaR and ES: 0.4053 0.5082\n",
      "For portfolio SynLong\n",
      "PL mean: 0.4827\n",
      "VaR and ES: 16.2335 19.3992\n",
      "delta normal VaR and ES: 5.6162 6.9695\n",
      "For portfolio CallSpread\n",
      "PL mean: 0.0232\n",
      "VaR and ES: 3.7367 4.0183\n",
      "delta normal VaR and ES: 1.5768 1.9981\n",
      "For portfolio PutSpread\n",
      "PL mean: 0.2108\n",
      "VaR and ES: 2.7786 2.8662\n",
      "delta normal VaR and ES: 1.4852 1.8527\n",
      "For portfolio Stock\n",
      "PL mean: 1.0272\n",
      "VaR and ES: 15.1176 18.0711\n",
      "delta normal VaR and ES: 5.6105 6.992\n",
      "For portfolio Call \n",
      "PL mean: 1.0792\n",
      "VaR and ES: 5.8636 6.1831\n",
      "delta normal VaR and ES: 2.98 3.7085\n",
      "For portfolio Put \n",
      "PL mean: 0.5965\n",
      "VaR and ES: 4.5542 4.6663\n",
      "delta normal VaR and ES: 2.6322 3.2616\n",
      "For portfolio CoveredCall\n",
      "PL mean: -0.1089\n",
      "VaR and ES: 11.3826 14.2001\n",
      "delta normal VaR and ES: 3.2782 4.1031\n",
      "For portfolio ProtectedPut\n",
      "PL mean: 1.5485\n",
      "VaR and ES: 7.2001 7.6135\n",
      "delta normal VaR and ES: 3.6971 4.6728\n"
     ]
    }
   ],
   "source": [
    "for k, v in portfolios.items():\n",
    "    v.reset_index(inplace=True)\n",
    "    current_value = v['Holding']@v['CurrentPrice']\n",
    "    total_values = np.zeros(sim_times)\n",
    "    delta = np.ones(v.shape[0])\n",
    "    for i in range(v.shape[0]):\n",
    "        if v['Type'][i] == 'Option':\n",
    "            if v['OptionType'][i] == 'Call':\n",
    "                call = True\n",
    "            elif v['OptionType'][i] == 'Put':\n",
    "                call = False\n",
    "            else:\n",
    "                raise ValueError(\"OptionType must be Call or Put\")\n",
    "\n",
    "            ttm = (v['ExpirationDate'][i] - current).days / calendarDays\n",
    "            N = (v['ExpirationDate'][i] - current).days\n",
    "            iv = find_iv(call, underlying, v['Strike'][i], ttm, rf, rf, v['CurrentPrice'][i], N, divA, divT)\n",
    "            ttm2 = ((v['ExpirationDate'][i] - current).days - 10) / calendarDays\n",
    "            N2 = (v['ExpirationDate'][i] - current).days-10\n",
    "            divT2 = [x-10 for x in divT]\n",
    "            prices = np.array([bt_american_with_div(call, x, v['Strike'][i], ttm2, rf, divA, divT2, iv, N2) for x in new_prices])\n",
    "\n",
    "            greeks = Greeks(call, underlying, v['Strike'][i], ttm2, rf, rf, iv, N2, divA, divT2)\n",
    "            delta[i] = greeks.delta_finite_dif(1.)\n",
    "        elif v['Type'][i] == 'Stock':\n",
    "            prices = new_prices\n",
    "            delta[i] = 1.\n",
    "        else:\n",
    "            raise ValueError(\"Type must be Option or Stock\")\n",
    "\n",
    "        values = prices * v['Holding'][i]\n",
    "        total_values += values\n",
    "\n",
    "    VaR, ES = risk.VaR_ES(total_values - current_value)\n",
    "    delta_VaR, delta_ES = delta_normal_VaR_ES(v['CurrentPrice'], v['Holding'], delta, underlying, sd**2)\n",
    "\n",
    "    print(\"For portfolio\", k)\n",
    "    print(\"PL mean:\", round((total_values - current_value).mean(), 4))\n",
    "    print(\"VaR and ES:\", round(VaR, 4), round(ES, 4))\n",
    "    print(\"delta normal VaR and ES:\", round(delta_VaR, 4), round(delta_ES, 4))"
   ],
   "metadata": {
    "collapsed": false
   }
  },
  {
   "cell_type": "markdown",
   "source": [
    "### problem 3"
   ],
   "metadata": {
    "collapsed": false
   }
  },
  {
   "cell_type": "code",
   "execution_count": 36,
   "outputs": [],
   "source": [
    "symbols = ['AAPL', 'META', 'UNH', 'MA', 'MSFT', 'NVDA', 'HD', 'PFE', 'AMZN', 'BRK-B', 'PG', 'XOM', 'TSLA', 'JPM', 'V', 'DIS', 'GOOGL', 'JNJ', 'BAC', 'CSCO']\n",
    "returns_df = risk.return_calculate(prices_df, 'log')[symbols]\n",
    "momentum_df = pd.read_csv('F-F_Momentum_Factor_daily.CSV')\n",
    "momentum_df['Date'] = pd.to_datetime(momentum_df['Date'], format='%Y%m%d')\n",
    "momentum_df.set_index('Date', inplace=True)\n",
    "factors3_df = pd.read_csv('F-F_Research_Data_Factors_daily.CSV')\n",
    "factors3_df['Date'] = pd.to_datetime(factors3_df['Date'], format='%Y%m%d')\n",
    "factors3_df.set_index('Date', inplace=True)"
   ],
   "metadata": {
    "collapsed": false
   }
  },
  {
   "cell_type": "code",
   "execution_count": 37,
   "outputs": [],
   "source": [
    "returns_10_years = pd.DataFrame()\n",
    "for col in returns_df.columns:\n",
    "    # fit data into 4 factor model\n",
    "    X = pd.concat([factors3_df['2022-02-15':'2023-01-31'], momentum_df['2022-02-15':'2023-01-31']], axis=1).drop('RF', axis=1)/100\n",
    "    y = returns_df['2022-02-15':'2023-01-31'][col]-factors3_df['2022-02-15':'2023-01-31']['RF']\n",
    "    regr = linear_model.LinearRegression()\n",
    "    regr.fit(X, y)\n",
    "\n",
    "    # calculate the expected daily return based on past 10 years factor returns\n",
    "    factors4 = pd.concat([factors3_df['2013-01-01':'2022-12-31'][['Mkt-RF', 'SMB', 'HML']], momentum_df['2013-01-01':'2022-12-31']['Mom   ']], axis=1)\n",
    "    returns_10_years[col] = regr.intercept_ + factors4@regr.coef_ + factors3_df['2013-01-01':'2022-12-31']['RF']"
   ],
   "metadata": {
    "collapsed": false
   }
  },
  {
   "cell_type": "code",
   "execution_count": 38,
   "outputs": [],
   "source": [
    "# resample to get the annual average returns\n",
    "annual_return = returns_10_years.resample('Y').mean()\n",
    "er = annual_return.mean()\n",
    "covar = annual_return.cov()"
   ],
   "metadata": {
    "collapsed": false
   }
  },
  {
   "cell_type": "code",
   "execution_count": 39,
   "outputs": [],
   "source": [
    "def optimize_risk(er, covar, R):\n",
    "    objective = lambda w: w.T@covar@w\n",
    "    x0 = [1/3] * er.size\n",
    "    bnds = [(0, None)] * er.size\n",
    "    constraint1 = lambda w: sum(w) - 1\n",
    "    constraint2 = lambda w: w@er - R\n",
    "    cons = ({'type': 'eq', 'fun': constraint1}, {'type': 'eq', 'fun': constraint2})\n",
    "    result = minimize(objective, x0, bounds=bnds, constraints=cons)\n",
    "    weight = result.x\n",
    "    riskk = weight.T@covar@weight\n",
    "    return weight, riskk"
   ],
   "metadata": {
    "collapsed": false
   }
  },
  {
   "cell_type": "code",
   "execution_count": 40,
   "outputs": [],
   "source": [
    "rets = []\n",
    "weights = []\n",
    "risks = []\n",
    "SP = []\n",
    "for r in range(25, 86):\n",
    "    weight, riskk = optimize_risk(er, covar, r/1000)\n",
    "    rets.append(r/1000)\n",
    "    weights.append(weight)\n",
    "    risks.append(riskk)\n",
    "    SP.append((r/1000-rf)/riskk)"
   ],
   "metadata": {
    "collapsed": false
   }
  },
  {
   "cell_type": "code",
   "execution_count": 41,
   "outputs": [
    {
     "data": {
      "text/plain": "<Figure size 640x480 with 1 Axes>",
      "image/png": "[encoded data removed]"
     },
     "metadata": {},
     "output_type": "display_data"
    }
   ],
   "source": [
    "# efficient frontier\n",
    "plt.plot(risks, np.linspace(0.025, 0.085, 61))\n",
    "plt.xlabel(\"risks\")\n",
    "plt.ylabel(\"returns\")\n",
    "\n",
    "# super efficient portfolio\n",
    "maxidx = np.argmax(np.array(SP))\n",
    "maxSP_ret = rets[maxidx]\n",
    "maxSP_risk = risks[maxidx]\n",
    "plt.scatter(maxSP_risk, maxSP_ret, color='red', s=100, marker='o')\n",
    "\n",
    "# CML\n",
    "plt.plot([0, maxSP_risk], [rf, maxSP_ret])\n",
    "plt.xlim((0, None))\n",
    "plt.show()"
   ],
   "metadata": {
    "collapsed": false
   }
  },
  {
   "cell_type": "code",
   "execution_count": 46,
   "outputs": [
    {
     "name": "stdout",
     "output_type": "stream",
     "text": [
      "super efficient portfolio\n",
      "weights [0.0982, 0, 0.25, 0, 0, 0.1954, 0, 0, 0, 0, 0, 0.4563, 0, 0, 0, 0, 0, 0, 0, 0]\n",
      "return 0.056\n",
      "risk 0.0039024594582645726\n",
      "shape ratio 3.459356886183633\n"
     ]
    }
   ],
   "source": [
    "weights[maxidx] = [0 if x<1e-8 else x for x in weights[maxidx]]\n",
    "print(\"super efficient portfolio\")\n",
    "print(\"weights\", [round(x, 4) for x in weights[maxidx]])\n",
    "print(\"return\", maxSP_ret)\n",
    "print(\"risk\", maxSP_risk)\n",
    "print(\"shape ratio\", SP[maxidx])"
   ],
   "metadata": {
    "collapsed": false
   }
  },
  {
   "cell_type": "code",
   "execution_count": 47,
   "outputs": [
    {
     "data": {
      "text/plain": "['AAPL',\n 'META',\n 'UNH',\n 'MA',\n 'MSFT',\n 'NVDA',\n 'HD',\n 'PFE',\n 'AMZN',\n 'BRK-B',\n 'PG',\n 'XOM',\n 'TSLA',\n 'JPM',\n 'V',\n 'DIS',\n 'GOOGL',\n 'JNJ',\n 'BAC',\n 'CSCO']"
     },
     "execution_count": 47,
     "metadata": {},
     "output_type": "execute_result"
    }
   ],
   "source": [
    "symbols"
   ],
   "metadata": {
    "collapsed": false
   }
  },
  {
   "cell_type": "code",
   "execution_count": null,
   "outputs": [],
   "source": [],
   "metadata": {
    "collapsed": false
   }
  }
 ],
 "metadata": {
  "kernelspec": {
   "display_name": "Python 3",
   "language": "python",
   "name": "python3"
  },
  "language_info": {
   "codemirror_mode": {
    "name": "ipython",
    "version": 2
   },
   "file_extension": ".py",
   "mimetype": "text/x-python",
   "name": "python",
   "nbconvert_exporter": "python",
   "pygments_lexer": "ipython2",
   "version": "2.7.6"
  }
 },
 "nbformat": 4,
 "nbformat_minor": 0
}
